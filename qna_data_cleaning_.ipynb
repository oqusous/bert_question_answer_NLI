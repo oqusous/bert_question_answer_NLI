{
  "nbformat": 4,
  "nbformat_minor": 0,
  "metadata": {
    "colab": {
      "name": "qna_data_cleaning_",
      "provenance": [],
      "collapsed_sections": []
    },
    "kernelspec": {
      "name": "python3",
      "display_name": "Python 3"
    },
    "language_info": {
      "name": "python"
    }
  },
  "cells": [
    {
      "cell_type": "code",
      "metadata": {
        "colab": {
          "base_uri": "https://localhost:8080/"
        },
        "id": "qb_-JsyaZvb9",
        "outputId": "d16ebc59-f55f-458f-b6a9-06031295e61d"
      },
      "source": [
        "from google.colab import drive\n",
        "drive.mount('/content/drive')\n",
        "\n",
        "abspath_curr = '/content/drive/My Drive/Colab Notebooks/MLII/'\n",
        "abspath_data_quac = '/content/drive/My Drive/Colab Notebooks/MLII/data_quac/'\n",
        "abspath_data_qnli = '/content/drive/My Drive/Colab Notebooks/MLII/data_qnli/QNLIv2/'\n",
        "abspath_data_qna = '/content/drive/My Drive/Colab Notebooks/MLII/data_qna/'\n",
        "abspath_data_gnq = '/content/drive/My Drive/Colab Notebooks/MLII/data_gnq/'\n",
        "abspath_model = '/content/drive/My Drive/Colab Notebooks/MLII/models/'\n",
        "abspath_plots = '/content/drive/My Drive/Colab Notebooks/MLII/plots/'"
      ],
      "execution_count": 1,
      "outputs": [
        {
          "output_type": "stream",
          "text": [
            "Drive already mounted at /content/drive; to attempt to forcibly remount, call drive.mount(\"/content/drive\", force_remount=True).\n"
          ],
          "name": "stdout"
        }
      ]
    },
    {
      "cell_type": "code",
      "metadata": {
        "id": "XpTp-Pt9Zvq0"
      },
      "source": [
        "# QNA download\n",
        "# %cd '/content/drive/My Drive/Colab Notebooks/MLII/data_qna/'\n",
        "# !wget 'https://msmarco.blob.core.windows.net/msmarco/train_v2.1.json.gz'\n",
        "# !wget 'https://msmarco.blob.core.windows.net/msmarco/dev_v2.1.json.gz'\n",
        "# !wget 'https://msmarco.blob.core.windows.net/msmarco/eval_v2.1_public.json.gz'\n",
        "# !gzip -d train_v2.1.json.gz\n",
        "# !gzip -d dev_v2.1.json.gz\n",
        "# !gzip -d eval_v2.1_public.json.gz"
      ],
      "execution_count": null,
      "outputs": []
    },
    {
      "cell_type": "code",
      "metadata": {
        "id": "a27uZ0WDZv7D"
      },
      "source": [
        "import pandas as pd\n",
        "import json\n",
        "from tqdm import tqdm\n",
        "import numpy as np\n",
        "import pprint"
      ],
      "execution_count": 12,
      "outputs": []
    },
    {
      "cell_type": "code",
      "metadata": {
        "id": "B_Nw8CAcZO1N"
      },
      "source": [
        "eval_qna = json.load(open(abspath_data_qna+'eval_v2.1_public.json'))\n",
        "train_qna = json.load(open(abspath_data_qna+'train_v2.1.json'))\n",
        "dev_qna = json.load(open(abspath_data_qna+'dev_v2.1.json.1.json'))"
      ],
      "execution_count": 3,
      "outputs": []
    },
    {
      "cell_type": "code",
      "metadata": {
        "colab": {
          "base_uri": "https://localhost:8080/"
        },
        "id": "K-pML4Vs5o51",
        "outputId": "d507b616-cccf-421e-ed9d-2d2ba2986065"
      },
      "source": [
        "len(train_qna['query_id'])"
      ],
      "execution_count": 28,
      "outputs": [
        {
          "output_type": "execute_result",
          "data": {
            "text/plain": [
              "808731"
            ]
          },
          "metadata": {
            "tags": []
          },
          "execution_count": 28
        }
      ]
    },
    {
      "cell_type": "code",
      "metadata": {
        "colab": {
          "base_uri": "https://localhost:8080/"
        },
        "id": "GFShYuhAZW-i",
        "outputId": "e3551551-8c66-4dc0-bfc7-1302a92efc4d"
      },
      "source": [
        "print(train_qna.keys())\n",
        "print('number of queries in ds:', len(list(train_qna['query'].keys())))\n",
        "bool(train_qna['answers'].keys() == train_qna['query'].keys() == train_qna['wellFormedAnswers'].keys() == \n",
        "     train_qna['query_id'].keys() == train_qna['query_type'].keys() == train_qna['passages'].keys())"
      ],
      "execution_count": null,
      "outputs": [
        {
          "output_type": "stream",
          "text": [
            "dict_keys(['answers', 'passages', 'query', 'query_id', 'query_type', 'wellFormedAnswers'])\n",
            "number of queries in ds: 808731\n"
          ],
          "name": "stdout"
        },
        {
          "output_type": "execute_result",
          "data": {
            "text/plain": [
              "True"
            ]
          },
          "metadata": {
            "tags": []
          },
          "execution_count": 46
        }
      ]
    },
    {
      "cell_type": "code",
      "metadata": {
        "colab": {
          "base_uri": "https://localhost:8080/"
        },
        "id": "C0CKeUv_frdh",
        "outputId": "30089446-2c9b-4779-9ec3-a5fd2a697b21"
      },
      "source": [
        "train_qna['answers']['100852']"
      ],
      "execution_count": null,
      "outputs": [
        {
          "output_type": "execute_result",
          "data": {
            "text/plain": [
              "['1–3 months']"
            ]
          },
          "metadata": {
            "tags": []
          },
          "execution_count": 27
        }
      ]
    },
    {
      "cell_type": "code",
      "metadata": {
        "colab": {
          "base_uri": "https://localhost:8080/",
          "height": 36
        },
        "id": "_bDYvgZ5ZZsC",
        "outputId": "3d3d5813-39cf-43ae-eb23-679db68b1e36"
      },
      "source": [
        "train_qna['query_type']['100852']"
      ],
      "execution_count": null,
      "outputs": [
        {
          "output_type": "execute_result",
          "data": {
            "application/vnd.google.colaboratory.intrinsic+json": {
              "type": "string"
            },
            "text/plain": [
              "'NUMERIC'"
            ]
          },
          "metadata": {
            "tags": []
          },
          "execution_count": 6
        }
      ]
    },
    {
      "cell_type": "code",
      "metadata": {
        "colab": {
          "base_uri": "https://localhost:8080/"
        },
        "id": "HHafHs8WZazN",
        "outputId": "4b51c735-93c8-4b1f-991b-17aea4ee4811"
      },
      "source": [
        "train_qna['query_id']['100852']"
      ],
      "execution_count": null,
      "outputs": [
        {
          "output_type": "execute_result",
          "data": {
            "text/plain": [
              "266138"
            ]
          },
          "metadata": {
            "tags": []
          },
          "execution_count": 7
        }
      ]
    },
    {
      "cell_type": "code",
      "metadata": {
        "colab": {
          "base_uri": "https://localhost:8080/"
        },
        "id": "mdAJN0TTZb1u",
        "outputId": "42147241-7a1d-45fe-bf70-8c7dda17501c"
      },
      "source": [
        "train_qna['wellFormedAnswers']['100852']"
      ],
      "execution_count": null,
      "outputs": [
        {
          "output_type": "execute_result",
          "data": {
            "text/plain": [
              "['The rabies incubation period is 1 to 3 months.']"
            ]
          },
          "metadata": {
            "tags": []
          },
          "execution_count": 26
        }
      ]
    },
    {
      "cell_type": "code",
      "metadata": {
        "colab": {
          "base_uri": "https://localhost:8080/",
          "height": 36
        },
        "id": "MgCMNBPPZe7U",
        "outputId": "8e8370dd-1132-471b-fea6-4bb06c527a7d"
      },
      "source": [
        "train_qna['query']['3']"
      ],
      "execution_count": null,
      "outputs": [
        {
          "output_type": "execute_result",
          "data": {
            "application/vnd.google.colaboratory.intrinsic+json": {
              "type": "string"
            },
            "text/plain": [
              "'definition of ramen'"
            ]
          },
          "metadata": {
            "tags": []
          },
          "execution_count": 9
        }
      ]
    },
    {
      "cell_type": "code",
      "metadata": {
        "colab": {
          "base_uri": "https://localhost:8080/"
        },
        "id": "sta1dCCfZgLj",
        "outputId": "13b69750-eb6f-4d5e-b990-da9583990793"
      },
      "source": [
        "print('key \"answers\":')\n",
        "print('content example 100852- ',train_qna['answers']['100852'])\n",
        "list_types_answers=[]\n",
        "for k,v in train_qna['answers'].items():\n",
        "  list_types_answers.append(type(v))\n",
        "print(set(list_types_answers))\n",
        "list_length_answers = []\n",
        "for k,v in train_qna['answers'].items():\n",
        "  list_length_answers.append(len(v))\n",
        "print('max length- ', max(list_length_answers))"
      ],
      "execution_count": null,
      "outputs": [
        {
          "output_type": "stream",
          "text": [
            "key \"answers\":\n",
            "content example 100852-  ['1–3 months']\n",
            "{<class 'list'>}\n",
            "max length-  6\n"
          ],
          "name": "stdout"
        }
      ]
    },
    {
      "cell_type": "code",
      "metadata": {
        "colab": {
          "base_uri": "https://localhost:8080/"
        },
        "id": "KNUAviZSbk8I",
        "outputId": "d7b04521-5ce2-4984-b72b-20c563e3f247"
      },
      "source": [
        "print('key \"wellFormedAnswers\":')\n",
        "print('content- ',train_qna['wellFormedAnswers']['100852'])\n",
        "list_types_wellFormedAnswers=[]\n",
        "for k,v in train_qna['wellFormedAnswers'].items():\n",
        "  list_types_wellFormedAnswers.append(type(v))\n",
        "print(set(list_types_wellFormedAnswers))\n",
        "list_length_wellFormedAnswers = []\n",
        "for k,v in train_qna['wellFormedAnswers'].items():\n",
        "  if type(v) == type([]):\n",
        "    list_length_wellFormedAnswers.append(len(v))\n",
        "print('max length- ', max(list_length_wellFormedAnswers))\n",
        "print('number of lists as values:', len(list_length_wellFormedAnswers))"
      ],
      "execution_count": null,
      "outputs": [
        {
          "output_type": "stream",
          "text": [
            "key \"wellFormedAnswers\":\n",
            "content-  ['The rabies incubation period is 1 to 3 months.']\n",
            "{<class 'list'>, <class 'str'>}\n",
            "max length-  53\n",
            "number of lists as values: 153725\n"
          ],
          "name": "stdout"
        }
      ]
    },
    {
      "cell_type": "code",
      "metadata": {
        "colab": {
          "base_uri": "https://localhost:8080/"
        },
        "id": "D3vFzo1IcMBS",
        "outputId": "c7a03f47-bffa-4008-b837-c788acaef177"
      },
      "source": [
        "print('key \"query_type\":')\n",
        "print('content- ',train_qna['query_type']['100852'])\n",
        "list_types_query_type=[]\n",
        "for k,v in train_qna['query_type'].items():\n",
        "  list_types_query_type.append(type(v))\n",
        "print(set(list_types_query_type))\n",
        "list_length_query_type = []\n",
        "for k,v in train_qna['query_type'].items():\n",
        "  if type(v) == type([]):\n",
        "    list_length_query_type.append(len(v))\n",
        "print('number of lists as values:', len(list_length_query_type))"
      ],
      "execution_count": null,
      "outputs": [
        {
          "output_type": "stream",
          "text": [
            "key \"query_type\":\n",
            "content-  NUMERIC\n",
            "{<class 'str'>}\n",
            "number of lists as values: 0\n"
          ],
          "name": "stdout"
        }
      ]
    },
    {
      "cell_type": "code",
      "metadata": {
        "colab": {
          "base_uri": "https://localhost:8080/"
        },
        "id": "BJa9F09Ee-Gq",
        "outputId": "3e179c05-f380-4c9f-d9fa-508890dd60bc"
      },
      "source": [
        "print('key \"query_id\":')\n",
        "print('content- ',train_qna['query_id']['100852'])\n",
        "list_types_query_id=[]\n",
        "for k,v in train_qna['query_id'].items():\n",
        "  list_types_query_id.append(type(v))\n",
        "print(set(list_types_query_id))\n",
        "list_length_query_id = []\n",
        "for k,v in train_qna['query_id'].items():\n",
        "  if type(v) == type([]):\n",
        "    list_length_query_id.append(len(v))\n",
        "print('number of lists as values:', len(list_length_query_id))"
      ],
      "execution_count": null,
      "outputs": [
        {
          "output_type": "stream",
          "text": [
            "key \"query_id\":\n",
            "content-  266138\n",
            "{<class 'int'>}\n",
            "number of lists as values: 0\n"
          ],
          "name": "stdout"
        }
      ]
    },
    {
      "cell_type": "code",
      "metadata": {
        "colab": {
          "base_uri": "https://localhost:8080/"
        },
        "id": "isGkpmUMfSq-",
        "outputId": "3468184d-4ca4-4639-f5c4-2cdb276ba6aa"
      },
      "source": [
        "print('key \"query\":')\n",
        "print('content- ',train_qna['query']['100852'])\n",
        "list_types_query=[]\n",
        "for k,v in train_qna['query'].items():\n",
        "  list_types_query.append(type(v))\n",
        "print(set(list_types_query))\n",
        "list_length_query = []\n",
        "for k,v in train_qna['query'].items():\n",
        "  if type(v) == type([]):\n",
        "    list_length_query.append(len(v))\n",
        "print('number of lists as values:', len(list_length_query))"
      ],
      "execution_count": null,
      "outputs": [
        {
          "output_type": "stream",
          "text": [
            "key \"query\":\n",
            "content-  how long rabies incubation period\n",
            "{<class 'str'>}\n",
            "number of lists as values: 0\n"
          ],
          "name": "stdout"
        }
      ]
    },
    {
      "cell_type": "code",
      "metadata": {
        "colab": {
          "base_uri": "https://localhost:8080/"
        },
        "id": "np87SiDxZjBq",
        "outputId": "01d8227c-7d1f-4bae-9221-2e9bfcae9eb9"
      },
      "source": [
        "for passage in train_qna['passages']['100852']:\n",
        "  print(passage['is_selected'])\n",
        "  print(passage['passage_text'])\n",
        "  print(passage['url'])\n",
        "  print('\\n')"
      ],
      "execution_count": null,
      "outputs": [
        {
          "output_type": "stream",
          "text": [
            "0\n",
            "The rabies incubation period may vary from a few days to several years, but is typically one to three months.During this time, the rabies virus is multiplying within the body. At some point, the rabies virus will travel along nerve cells to the brain.ventually, the virus cause rabies symptoms to develop. The period from the time from infection to the onset of symptoms is known as the rabies incubation period.\n",
            "http://rabies.emedtv.com/rabies/rabies-incubation-period.html\n",
            "\n",
            "\n",
            "0\n",
            "1 The incubation period -- the period of time between exposure to a disease and the onset of clinical signs -- for rabies can vary greatly.2  The typical incubation period is three to eight weeks, but it can be as little as nine days or as long as several years in some rare cases. The incubation period -- the period of time between exposure to a disease and the onset of clinical signs -- for rabies can vary greatly.\n",
            "http://www.americanhumane.org/animals/adoption-pet-care/safety/rabies-facts-prevention.html\n",
            "\n",
            "\n",
            "0\n",
            "In people, the incubation period (the time between initial contact with the virus and onset of the disease) generally ranges from two to eight weeks. In rare cases, it can vary from 10 days to 2 years.The incubation period is shorter in children and in people exposed to a large dose of the rabies virus.The dose of virus depends on the size, severity and location of an animal bite or scratch. In animals, the incubation period depends on the species of animal.n people, the incubation period (the time between initial contact with the virus and onset of the disease) generally ranges from two to eight weeks. In rare cases, it can vary from 10 days to 2 years.\n",
            "http://www.ccohs.ca/oshanswers/diseases/rabies.html\n",
            "\n",
            "\n",
            "0\n",
            "It multiplies in the brain very quickly, causing the end of the rabies incubation period, and the beginning of rabies symptoms. Usually within three to five days, the rabies virus has caused enough damage to the brain that the animal will begin to show unmistakable signs of rabies.ventually, the virus cause rabies symptoms to develop. The period from the time from infection to the onset of symptoms is known as the rabies incubation period.\n",
            "http://rabies.emedtv.com/rabies/rabies-incubation-period.html\n",
            "\n",
            "\n",
            "0\n",
            "The initial symptoms of rabies are mild, but they quickly become serious. The incubation period is the time it takes for symptoms to develop after a person is infected with the virus.The incubation period for rabies is usually two to 12 weeks, although it can be as short as four days. It is unusual for the incubation period to last for more than a year.he incubation period for rabies is usually two to 12 weeks, although it can be as short as four days. It is unusual for the incubation period to last for more than a year.\n",
            "http://www.nhs.uk/Conditions/Rabies/Pages/Symptoms.aspx\n",
            "\n",
            "\n",
            "0\n",
            "Symptoms of Rabies in Humans It takes some time (the incubation period) before a person exposed to rabies develops symptoms. The incubation period for rabies can vary. It can be anywhere from a week to over a year. An incubation period as long as 19 years has been reported.However, it usually lasts about one to two months.he incubation period for rabies can vary. It can be anywhere from a week to over a year. An incubation period as long as 19 years has been reported. However, it usually lasts about one to two months.\n",
            "http://www.cdph.ca.gov/programs/hesis/Documents/rabies.pdf\n",
            "\n",
            "\n",
            "1\n",
            "Symptoms. The incubation period for rabies is typically 1–3 months, but may vary from 1 year. The initial symptoms of rabies are fever and often pain or an unusual or unexplained tingling, pricking or burning sensation (paraesthesia) at the wound site.he incubation period for rabies is typically 1–3 months, but may vary from 1 year. The initial symptoms of rabies are fever and often pain or an unusual or unexplained tingling, pricking or burning sensation (paraesthesia) at the wound site.\n",
            "http://www.who.int/mediacentre/factsheets/fs099/en/\n",
            "\n",
            "\n",
            "0\n",
            "The animal does not appear ill during this time. The time between the bite and the appearance of symptoms is called the incubation period and it may last for weeks to months. A bite by the animal during the incubation period does not carry a risk of rabies because the virus has not yet made it to the saliva.he animal does not appear ill during this time. The time between the bite and the appearance of symptoms is called the incubation period and it may last for weeks to months. A bite by the animal during the incubation period does not carry a risk of rabies because the virus has not yet made it to the saliva.\n",
            "http://www.cdc.gov/rabies/transmission/body.html\n",
            "\n",
            "\n",
            "0\n",
            "This is called the incubation period of virus. Usually people develop rabies within six months of exposure (e.g. from a bite from an infected animal like a dog or a bat). However, longer incubation periods can occur.his is called the incubation period of virus. Usually people develop rabies within six months of exposure (e.g. from a bite from an infected animal like a dog or a bat). However, longer incubation periods can occur.\n",
            "http://www.wormsandgermsblog.com/2008/12/articles/diseases/rabies/human-rabies-with-long-incubation-time/\n",
            "\n",
            "\n",
            "0\n",
            "Records are meant to be broken, and rabies incubation period is no exception. I’m often asked what the incubation period of rabies is in people. My general answer is  a long time, and we don’t really know how long it can be..A report in the Annals of Neurology (Boland et al 2014) highlights this fact.ecords are meant to be broken, and rabies incubation period is no exception. I’m often asked what the incubation period of rabies is in people. My general answer is  a long time, and we don’t really know how long it can be..\n",
            "http://www.wormsandgermsblog.com/2015/01/articles/animals/dogs/human-rabies-incubation-record/\n",
            "\n",
            "\n"
          ],
          "name": "stdout"
        }
      ]
    },
    {
      "cell_type": "code",
      "metadata": {
        "colab": {
          "base_uri": "https://localhost:8080/"
        },
        "id": "OyWSeOVVagtx",
        "outputId": "ff8905ff-368e-46ea-fb23-c69f78fca9ff"
      },
      "source": [
        "df_dict = {'query_id':[],'query':[], 'sentence':[], 'label':[]}\n",
        "for k,v in tqdm(train_qna['query'].items()):\n",
        "  num_passages = len(train_qna['passages'][k])\n",
        "  query_id = [train_qna['query_id'][k]]*num_passages\n",
        "  query = [train_qna['query'][k]]*num_passages\n",
        "  sentences = []\n",
        "  labels = []\n",
        "  for passage in train_qna['passages'][k]:\n",
        "    labels.append(passage['is_selected'])\n",
        "    sentences.append(passage['passage_text'])\n",
        "\n",
        "  df_dict['query_id'].extend(query_id)\n",
        "  df_dict['query'].extend(query)\n",
        "  df_dict['sentence'].extend(sentences)\n",
        "  df_dict['label'].extend(labels)"
      ],
      "execution_count": null,
      "outputs": [
        {
          "output_type": "stream",
          "text": [
            "100%|██████████| 808731/808731 [00:06<00:00, 123370.27it/s]\n"
          ],
          "name": "stderr"
        }
      ]
    },
    {
      "cell_type": "code",
      "metadata": {
        "id": "vdxY9jdFkjEW"
      },
      "source": [
        "df = pd.DataFrame(df_dict)"
      ],
      "execution_count": null,
      "outputs": []
    },
    {
      "cell_type": "code",
      "metadata": {
        "colab": {
          "base_uri": "https://localhost:8080/",
          "height": 206
        },
        "id": "HeJ2grgRkt3R",
        "outputId": "2ad7ea12-b793-476c-8392-473ec2d9977b"
      },
      "source": [
        "df.head()"
      ],
      "execution_count": null,
      "outputs": [
        {
          "output_type": "execute_result",
          "data": {
            "text/html": [
              "<div>\n",
              "<style scoped>\n",
              "    .dataframe tbody tr th:only-of-type {\n",
              "        vertical-align: middle;\n",
              "    }\n",
              "\n",
              "    .dataframe tbody tr th {\n",
              "        vertical-align: top;\n",
              "    }\n",
              "\n",
              "    .dataframe thead th {\n",
              "        text-align: right;\n",
              "    }\n",
              "</style>\n",
              "<table border=\"1\" class=\"dataframe\">\n",
              "  <thead>\n",
              "    <tr style=\"text-align: right;\">\n",
              "      <th></th>\n",
              "      <th>query_id</th>\n",
              "      <th>query</th>\n",
              "      <th>sentence</th>\n",
              "      <th>label</th>\n",
              "    </tr>\n",
              "  </thead>\n",
              "  <tbody>\n",
              "    <tr>\n",
              "      <th>0</th>\n",
              "      <td>1185869</td>\n",
              "      <td>)what was the immediate impact of the success ...</td>\n",
              "      <td>The presence of communication amid scientific ...</td>\n",
              "      <td>1</td>\n",
              "    </tr>\n",
              "    <tr>\n",
              "      <th>1</th>\n",
              "      <td>1185869</td>\n",
              "      <td>)what was the immediate impact of the success ...</td>\n",
              "      <td>The Manhattan Project and its atomic bomb help...</td>\n",
              "      <td>0</td>\n",
              "    </tr>\n",
              "    <tr>\n",
              "      <th>2</th>\n",
              "      <td>1185869</td>\n",
              "      <td>)what was the immediate impact of the success ...</td>\n",
              "      <td>Essay on The Manhattan Project - The Manhattan...</td>\n",
              "      <td>0</td>\n",
              "    </tr>\n",
              "    <tr>\n",
              "      <th>3</th>\n",
              "      <td>1185869</td>\n",
              "      <td>)what was the immediate impact of the success ...</td>\n",
              "      <td>The Manhattan Project was the name for a proje...</td>\n",
              "      <td>0</td>\n",
              "    </tr>\n",
              "    <tr>\n",
              "      <th>4</th>\n",
              "      <td>1185869</td>\n",
              "      <td>)what was the immediate impact of the success ...</td>\n",
              "      <td>versions of each volume as well as complementa...</td>\n",
              "      <td>0</td>\n",
              "    </tr>\n",
              "  </tbody>\n",
              "</table>\n",
              "</div>"
            ],
            "text/plain": [
              "   query_id  ... label\n",
              "0   1185869  ...     1\n",
              "1   1185869  ...     0\n",
              "2   1185869  ...     0\n",
              "3   1185869  ...     0\n",
              "4   1185869  ...     0\n",
              "\n",
              "[5 rows x 4 columns]"
            ]
          },
          "metadata": {
            "tags": []
          },
          "execution_count": 58
        }
      ]
    },
    {
      "cell_type": "code",
      "metadata": {
        "colab": {
          "base_uri": "https://localhost:8080/"
        },
        "id": "KbZ5pt14kwM-",
        "outputId": "6e6f36ca-fc9b-4991-b1b9-fcc8ea896f9e"
      },
      "source": [
        "df['label'].value_counts()"
      ],
      "execution_count": null,
      "outputs": [
        {
          "output_type": "execute_result",
          "data": {
            "text/plain": [
              "0    7536988\n",
              "1     532761\n",
              "Name: label, dtype: int64"
            ]
          },
          "metadata": {
            "tags": []
          },
          "execution_count": 59
        }
      ]
    },
    {
      "cell_type": "code",
      "metadata": {
        "colab": {
          "base_uri": "https://localhost:8080/"
        },
        "id": "1W8xUf-P5b1e",
        "outputId": "97c9968a-a2e3-47e4-e273-68257e026393"
      },
      "source": [
        ""
      ],
      "execution_count": 27,
      "outputs": [
        {
          "output_type": "execute_result",
          "data": {
            "text/plain": [
              "8069749"
            ]
          },
          "metadata": {
            "tags": []
          },
          "execution_count": 27
        }
      ]
    },
    {
      "cell_type": "code",
      "metadata": {
        "id": "xSy-e8Y5k0uR"
      },
      "source": [
        "df.to_csv(abspath_data_qna+'df_qna.csv')"
      ],
      "execution_count": 5,
      "outputs": []
    },
    {
      "cell_type": "code",
      "metadata": {
        "colab": {
          "base_uri": "https://localhost:8080/",
          "height": 423
        },
        "id": "bjrZ6_-dvz_p",
        "outputId": "c3eb4e5a-6e7f-414e-8852-21691fef401d"
      },
      "source": [
        "df_qna=pd.read_csv(abspath_data_qna+'df_qna.csv')\n",
        "df_qna"
      ],
      "execution_count": 6,
      "outputs": [
        {
          "output_type": "execute_result",
          "data": {
            "text/html": [
              "<div>\n",
              "<style scoped>\n",
              "    .dataframe tbody tr th:only-of-type {\n",
              "        vertical-align: middle;\n",
              "    }\n",
              "\n",
              "    .dataframe tbody tr th {\n",
              "        vertical-align: top;\n",
              "    }\n",
              "\n",
              "    .dataframe thead th {\n",
              "        text-align: right;\n",
              "    }\n",
              "</style>\n",
              "<table border=\"1\" class=\"dataframe\">\n",
              "  <thead>\n",
              "    <tr style=\"text-align: right;\">\n",
              "      <th></th>\n",
              "      <th>Unnamed: 0</th>\n",
              "      <th>query_id</th>\n",
              "      <th>query</th>\n",
              "      <th>sentence</th>\n",
              "      <th>label</th>\n",
              "    </tr>\n",
              "  </thead>\n",
              "  <tbody>\n",
              "    <tr>\n",
              "      <th>0</th>\n",
              "      <td>0</td>\n",
              "      <td>1185869</td>\n",
              "      <td>)what was the immediate impact of the success ...</td>\n",
              "      <td>The presence of communication amid scientific ...</td>\n",
              "      <td>1</td>\n",
              "    </tr>\n",
              "    <tr>\n",
              "      <th>1</th>\n",
              "      <td>1</td>\n",
              "      <td>1185869</td>\n",
              "      <td>)what was the immediate impact of the success ...</td>\n",
              "      <td>The Manhattan Project and its atomic bomb help...</td>\n",
              "      <td>0</td>\n",
              "    </tr>\n",
              "    <tr>\n",
              "      <th>2</th>\n",
              "      <td>2</td>\n",
              "      <td>1185869</td>\n",
              "      <td>)what was the immediate impact of the success ...</td>\n",
              "      <td>Essay on The Manhattan Project - The Manhattan...</td>\n",
              "      <td>0</td>\n",
              "    </tr>\n",
              "    <tr>\n",
              "      <th>3</th>\n",
              "      <td>3</td>\n",
              "      <td>1185869</td>\n",
              "      <td>)what was the immediate impact of the success ...</td>\n",
              "      <td>The Manhattan Project was the name for a proje...</td>\n",
              "      <td>0</td>\n",
              "    </tr>\n",
              "    <tr>\n",
              "      <th>4</th>\n",
              "      <td>4</td>\n",
              "      <td>1185869</td>\n",
              "      <td>)what was the immediate impact of the success ...</td>\n",
              "      <td>versions of each volume as well as complementa...</td>\n",
              "      <td>0</td>\n",
              "    </tr>\n",
              "    <tr>\n",
              "      <th>...</th>\n",
              "      <td>...</td>\n",
              "      <td>...</td>\n",
              "      <td>...</td>\n",
              "      <td>...</td>\n",
              "      <td>...</td>\n",
              "    </tr>\n",
              "    <tr>\n",
              "      <th>8069744</th>\n",
              "      <td>8069744</td>\n",
              "      <td>461916</td>\n",
              "      <td>name some organisms that might live in a marin...</td>\n",
              "      <td>There are plenty of great animals that live in...</td>\n",
              "      <td>0</td>\n",
              "    </tr>\n",
              "    <tr>\n",
              "      <th>8069745</th>\n",
              "      <td>8069745</td>\n",
              "      <td>461916</td>\n",
              "      <td>name some organisms that might live in a marin...</td>\n",
              "      <td>Freshwater Biome Flora and Fauna. There is no ...</td>\n",
              "      <td>0</td>\n",
              "    </tr>\n",
              "    <tr>\n",
              "      <th>8069746</th>\n",
              "      <td>8069746</td>\n",
              "      <td>461916</td>\n",
              "      <td>name some organisms that might live in a marin...</td>\n",
              "      <td>There is no shortage of animals or plants livi...</td>\n",
              "      <td>0</td>\n",
              "    </tr>\n",
              "    <tr>\n",
              "      <th>8069747</th>\n",
              "      <td>8069747</td>\n",
              "      <td>461916</td>\n",
              "      <td>name some organisms that might live in a marin...</td>\n",
              "      <td>Plants and microorganisms grow and reproduce d...</td>\n",
              "      <td>0</td>\n",
              "    </tr>\n",
              "    <tr>\n",
              "      <th>8069748</th>\n",
              "      <td>8069748</td>\n",
              "      <td>461916</td>\n",
              "      <td>name some organisms that might live in a marin...</td>\n",
              "      <td>LOCATION: The marine biome is the biggest biom...</td>\n",
              "      <td>0</td>\n",
              "    </tr>\n",
              "  </tbody>\n",
              "</table>\n",
              "<p>8069749 rows × 5 columns</p>\n",
              "</div>"
            ],
            "text/plain": [
              "         Unnamed: 0  ...  label\n",
              "0                 0  ...      1\n",
              "1                 1  ...      0\n",
              "2                 2  ...      0\n",
              "3                 3  ...      0\n",
              "4                 4  ...      0\n",
              "...             ...  ...    ...\n",
              "8069744     8069744  ...      0\n",
              "8069745     8069745  ...      0\n",
              "8069746     8069746  ...      0\n",
              "8069747     8069747  ...      0\n",
              "8069748     8069748  ...      0\n",
              "\n",
              "[8069749 rows x 5 columns]"
            ]
          },
          "metadata": {
            "tags": []
          },
          "execution_count": 6
        }
      ]
    },
    {
      "cell_type": "code",
      "metadata": {
        "id": "1elGrAG2lP6F"
      },
      "source": [
        "random_state = 81\n",
        "df_qna_1 = df_qna[df_qna['label']==1]\n",
        "df_qna_0_sample = df_qna[df_qna['label']==0].groupby('query_id').sample(n=1, random_state=random_state)\n",
        "df_qna_sample = pd.concat([df_qna_1, df_qna_0_sample], axis=0)\n",
        "df_qna_sample = df_qna_sample.sample(frac=1, random_state=random_state)"
      ],
      "execution_count": 8,
      "outputs": []
    },
    {
      "cell_type": "code",
      "metadata": {
        "id": "Q-6WB0Itv3mb"
      },
      "source": [
        "print(df_qna_1.shape, df_qna_0_sample.shape, df_qna_sample.shape)\n",
        "print(df_qna_sample['label'].value_counts())"
      ],
      "execution_count": null,
      "outputs": []
    },
    {
      "cell_type": "code",
      "metadata": {
        "id": "y9WoroFcv5LS"
      },
      "source": [
        "df_qna_60k = df_qna_sample.sample(n=60000, random_state=random_state)\n",
        "df_qna_60k.drop('Unnamed: 0', axis=1, inplace=True)\n",
        "print(df_qna_60k.shape)\n",
        "print(df_qna_60k.columns)\n",
        "print(df_qna_60k['label'].value_counts())\n",
        "df_qna_60k.to_csv(abspath_data_qna+'df_qna_60k.csv')"
      ],
      "execution_count": null,
      "outputs": []
    },
    {
      "cell_type": "code",
      "metadata": {
        "id": "NLQyFy0iv7YH"
      },
      "source": [
        "df_qna_60k = pd.read_csv(abspath_data_qna+'df_qna_60k.csv')"
      ],
      "execution_count": null,
      "outputs": []
    }
  ]
}